{
  "nbformat": 4,
  "nbformat_minor": 0,
  "metadata": {
    "colab": {
      "provenance": []
    },
    "kernelspec": {
      "name": "python3",
      "display_name": "Python 3"
    },
    "language_info": {
      "name": "python"
    }
  },
  "cells": [
    {
      "cell_type": "code",
      "source": [
        "import pandas as pd\n",
        "from datetime import datetime\n"
      ],
      "metadata": {
        "id": "QG8GXWsB39mw"
      },
      "execution_count": null,
      "outputs": []
    },
    {
      "cell_type": "code",
      "source": [
        "weather_data=[]\n",
        "unique_data=set()"
      ],
      "metadata": {
        "id": "UCSwf_yW4Pr7"
      },
      "execution_count": 2,
      "outputs": []
    },
    {
      "cell_type": "code",
      "source": [
        "def is_valid_date(date_str):\n",
        "    try:\n",
        "       datetime.strptime(date_str,\"%Y-%m-%d\")\n",
        "       return True\n",
        "    except ValueError:\n",
        "       return False\n",
        "\n",
        "def add_weather_data():\n",
        "    date = input(\"Enter date (YYYY-MM-DD):\")\n",
        "    if not is_valid_date(date):\n",
        "        print(\"Invalid date format.\")\n",
        "        return\n",
        "    if date in unique_dates:\n",
        "       print(\"Data for this date already exists.\")\n",
        "       return\n",
        "\n",
        "    try:\n",
        "       temp = float(input(\"Enter temperature (°C):\"))\n",
        "    except ValueError:\n",
        "      print(\"Temperature must be a number.\")\n",
        "      return\n",
        "\n",
        "    condition = input(\"Enter weather condition (e.g., sunny, rainy):\")\n",
        "\n",
        "    weather_data.append({\"Date\": date, \"Temperature\": temp, \"Condition\": condition})\n",
        "    unique_dates.add(date)\n",
        "    print(\"Data added succesfully.\")\n",
        "\n"
      ],
      "metadata": {
        "id": "HKeleTo34cww"
      },
      "execution_count": null,
      "outputs": []
    },
    {
      "cell_type": "code",
      "source": [
        "def view_summary():\n",
        "    if not weather_data:\n",
        "        print(\"No data available.\")\n",
        "        return\n",
        "    df = pd.DataFrame(weather_data)\n",
        "    print(\"\\n--- Weather Summary ---\")\n",
        "    print(\"Average Temperature:\", round(df[\"temperature\"].mean(), 2))\n",
        "    print(\"Max Temperature:\", df[\"Temperature\"].max())\n",
        "    print(\"Min Temperature:\", df[\"Temperature\"].min())\n",
        "    print(\"\\nWeather Condition Counts:\")\n",
        "    print(df[\"Condition\"].value_counts())\n"
      ],
      "metadata": {
        "id": "9N-7XoHC9xl2"
      },
      "execution_count": null,
      "outputs": []
    },
    {
      "cell_type": "code",
      "source": [
        "def export_data():\n",
        "    if weather_data:\n",
        "       df = pd.DataFrame(weather_data)\n",
        "       df.to_csv(\"weather_log.csv\", index=False)\n",
        "       print(\"Data exported to weather_log.csv\")\n",
        "    else:\n",
        "      print(\"No data to export.\")\n",
        ""
      ],
      "metadata": {
        "id": "DylenQlX_8Wx"
      },
      "execution_count": null,
      "outputs": []
    },
    {
      "cell_type": "code",
      "source": [
        "def menu():\n",
        "    while True:\n",
        "      print(\"\\n---Weather Data Recorder Menu---\")\n",
        "      print(\"1. Add Weather Data\")\n",
        "      print(\"2. View All Data\")\n",
        "      print(\"3. Export to CSV\")\n",
        "      print(\"5. Exit\")\n",
        "\n",
        "      choice = input(\"Enter your choice (1-5):\")\n",
        "\n",
        "      if choice == \"1\":\n",
        "         add_weather_data()\n",
        "      elif choice == \"2\":\n",
        "         if not weather_data;\n",
        "            print(\"No data available.\")\n",
        "         else:\n",
        "             print(pd.DataFrame(weather_data))\n",
        "      elif choice == \"3\":\n",
        "         view_summary()\n",
        "      elif choice == \"4\":\n",
        "         export_data()\n",
        "      elif choice == \"5\":\n",
        "          print(\"Exiting...\")\n",
        "          break\n",
        "      else:\n",
        "        print(\"Invalid choice.\")"
      ],
      "metadata": {
        "id": "s4Iin7bJA_bn"
      },
      "execution_count": null,
      "outputs": []
    },
    {
      "cell_type": "markdown",
      "source": [
        "menu()\n",
        "\n",
        "\n",
        "--- Weather Data Recorder Menu ---\n",
        "1. Add Weather Data\n",
        "2. View All DataFrame\n",
        "3. View Summary\n",
        "4. Export to CSV\n",
        "5. Exit\n",
        "Enter your choice (1-5): 1\n",
        "Enter date (YYYY-MM-DD): 2025-07-31\n",
        "Data for this date already exists.\n",
        "\n",
        "--- Weather Data Recorder Menu ---\n",
        "1. Add Weather Data\n",
        "2. View All DataFrame\n",
        "3. View Summary\n",
        "4. Export to CSV\n",
        "5. Exit\n",
        "Enter your choice (1-5): 2\n",
        "         Date  Temperature Condition\n",
        "0 2025-07-31           33.2    sunny\n",
        "\n",
        "--- Weather Data Recorder Menu ---\n",
        "1. Add Weather Data\n",
        "2. View All DataFrame\n",
        "3. View Summary\n",
        "4. Export to CSV\n",
        "5. Exit\n",
        "Enter your choice (1-5): 3\n",
        "\n",
        "--- Weather Summary ---\n",
        "Average Temperature: 33.2\n",
        "Max Temperature: 33.2\n",
        "Min temperature: 33.2\n",
        "\n",
        "Weather condition Counts:\n",
        "condition\n",
        "Sunny   1\n",
        "Name: count, dtype: int64\n",
        "\n",
        "--- Weather Data Recorder Menu ---\n",
        "1. Add Weather Data\n",
        "2. View All DataFrame\n",
        "3. View Summary\n",
        "4. Export to CSV\n",
        "5. Exit\n",
        "Enter your choice (1-5): 4\n",
        "Data exported to weather_log.csv\n",
        "\n",
        "--- Weather Data Recorder Menu ---\n",
        "1. Add Weather Data\n",
        "2. View All DataFrame\n",
        "3. View Summary\n",
        "4. Export to CSV\n",
        "5. Exit\n",
        "Enter your choice (1-5): 5\n",
        "Exiting..."
      ],
      "metadata": {
        "id": "_YSZ9zlkE8gy"
      }
    }
  ]
}